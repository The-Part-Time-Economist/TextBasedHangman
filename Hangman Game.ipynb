{
 "cells": [
  {
   "cell_type": "code",
   "execution_count": null,
   "id": "7654d15f",
   "metadata": {},
   "outputs": [],
   "source": [
    "dictionary = open(\"dict.txt\",\"r\")     #read in a word bank\n",
    "dictionary = dictionary.read()\n",
    "dictionary = dictionary.split('\\n')   #split to list of words\n",
    "\n",
    "\n",
    "\n",
    "import random                         #choose a random word\n",
    "choose = random.randint(0, len(dictionary))\n",
    "chosen_word = dictionary[choose]\n",
    "mystery_word = []\n",
    "for i in chosen_word:                 #convert word to list of letters\n",
    "    mystery_word.append(i)\n",
    "\n",
    "print (mystery_word)                #remove after debugging       \n",
    "\n",
    "alive = True\n",
    "errors = 0\n",
    "                                    # show the blanks for length of guess word\n",
    "unguessed = [ \" \" for letter in range(len(chosen_word))]\n",
    "print (unguessed)\n",
    "\n",
    "while alive:                        #allow the user to guess\n",
    "    guess = input(\"Guess a letter to solve\\n\")\n",
    "    if guess in mystery_word:      #for a correct guess, show the player the partial word\n",
    "        print (guess + \" is in the mystery word\")\n",
    "        index = 0\n",
    "        for letters in mystery_word:   #compare guessed letter to letters in mystery word\n",
    "            if guess == chosen_word[index]:\n",
    "                unguessed[index] = mystery_word[index]\n",
    "            index+=1\n",
    "        if unguessed == mystery_word:  #if player guesses all, they win\n",
    "            print (\"You're a winner!\")\n",
    "            break\n",
    "    else:                           #keep track of errors \n",
    "        print (\"Sorry, that's not in there\")\n",
    "        errors +=1\n",
    "        if errors >= 6:             # if errors hits 6, player looses\n",
    "            alive = False\n",
    "    print (unguessed)\n",
    "    \n",
    "if not alive:                       #only show if player got \"hung\"\n",
    "    print (\"Sorry, you lost the game. Thanks for playing\")\n",
    "    print (\"The correct answer was --> \"+ chosen_word)\n",
    "    "
   ]
  }
 ],
 "metadata": {
  "kernelspec": {
   "display_name": "Python 3 (ipykernel)",
   "language": "python",
   "name": "python3"
  },
  "language_info": {
   "codemirror_mode": {
    "name": "ipython",
    "version": 3
   },
   "file_extension": ".py",
   "mimetype": "text/x-python",
   "name": "python",
   "nbconvert_exporter": "python",
   "pygments_lexer": "ipython3",
   "version": "3.9.7"
  }
 },
 "nbformat": 4,
 "nbformat_minor": 5
}
